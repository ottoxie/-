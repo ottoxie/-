{
 "cells": [
  {
   "cell_type": "code",
   "execution_count": null,
   "id": "8fd95055",
   "metadata": {
    "papermill": {
     "duration": 0.002353,
     "end_time": "2023-03-23T09:06:34.981487",
     "exception": false,
     "start_time": "2023-03-23T09:06:34.979134",
     "status": "completed"
    },
    "tags": []
   },
   "outputs": [],
   "source": []
  }
 ],
 "metadata": {
  "kernelspec": {
   "display_name": "Python 3",
   "language": "python",
   "name": "python3"
  },
  "language_info": {
   "codemirror_mode": {
    "name": "ipython",
    "version": 3
   },
   "file_extension": ".py",
   "mimetype": "text/x-python",
   "name": "python",
   "nbconvert_exporter": "python",
   "pygments_lexer": "ipython3",
   "version": "3.7.12"
  },
  "papermill": {
   "default_parameters": {},
   "duration": 11.330353,
   "end_time": "2023-03-23T09:06:35.710365",
   "environment_variables": {},
   "exception": null,
   "input_path": "__notebook__.ipynb",
   "output_path": "__notebook__.ipynb",
   "parameters": {},
   "start_time": "2023-03-23T09:06:24.380012",
   "version": "2.4.0"
  }
 },
 "nbformat": 4,
 "nbformat_minor": 5
}
